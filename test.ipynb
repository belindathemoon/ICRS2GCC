{
 "metadata": {
  "language_info": {
   "codemirror_mode": {
    "name": "ipython",
    "version": 3
   },
   "file_extension": ".py",
   "mimetype": "text/x-python",
   "name": "python",
   "nbconvert_exporter": "python",
   "pygments_lexer": "ipython3",
   "version": "3.8.3"
  },
  "orig_nbformat": 4,
  "kernelspec": {
   "name": "python3",
   "display_name": "Python 3.8.3 64-bit ('base': conda)"
  },
  "interpreter": {
   "hash": "0b48c53a85b3ee023b7a5936f538661e5f5511ac714b37271d96842134e63b3b"
  }
 },
 "nbformat": 4,
 "nbformat_minor": 2,
 "cells": [
  {
   "cell_type": "code",
   "execution_count": 77,
   "metadata": {},
   "outputs": [],
   "source": [
    "import numpy as np\n",
    "import astropy.units as u\n",
    "from astropy.coordinates import SkyCoord\n",
    "from astroquery.gaia import Gaia"
   ]
  },
  {
   "cell_type": "code",
   "execution_count": 2,
   "metadata": {},
   "outputs": [],
   "source": [
    "Gaia.MAIN_GAIA_TABLE = \"gaiaedr3.gaia_source\" # Select early Data Release 3"
   ]
  },
  {
   "cell_type": "code",
   "execution_count": 171,
   "metadata": {},
   "outputs": [],
   "source": [
    "class ICRS2GCC():\n",
    "\n",
    "    def __init__(self, source_id):\n",
    "        self.source_id = source_id\n",
    "    \n",
    "    def query_gaia_object(self):\n",
    "        \"\"\"\n",
    "        Function that returns all gaia information for the object with id source_id\n",
    "        \n",
    "        Returns:\n",
    "            Gaia information (astropy table): astrometric and photometric information for the object with id source_id\n",
    "        \"\"\"\n",
    "        query = \"\"\"SELECT * FROM gaiaedr3.gaia_source \n",
    "        WHERE source_id = {Gaia_ID}\"\"\"\n",
    "        query = query.format(Gaia_ID=self.source_id)\n",
    "        job = Gaia.launch_job_async(query)\n",
    "        return job.get_results()\n",
    "    \n",
    "    def matrix_cov(self):\n",
    "        \"\"\"\n",
    "        Function that returns the covariance matrix using uncertainties and correlations coefficient from Gaia\n",
    "        \n",
    "        Returns:\n",
    "            matrix covariance (numpy array): matrix covariance\n",
    "        \"\"\"\n",
    "        r = self.query_gaia_object()\n",
    "        # empty matrix to build the covariance matrix\n",
    "        c = np.empty((6, 6), dtype=float)\n",
    "        c[0, 0] = r['ra_error']*r['ra_error']\n",
    "        c[0, 1] = c[1, 0] = r['ra_error']*r['dec_error']*r['ra_dec_corr']\n",
    "        c[0, 2] = c[2, 0] = r['ra_error']*r['parallax_error']*r['ra_parallax_corr']\n",
    "        c[0, 3] = c[3, 0] = r['ra_error']*r['pmra_error']*r['ra_pmra_corr']\n",
    "        c[0, 4] = c[4, 0] = r['ra_error']*r['pmdec_error']*r['ra_pmdec_corr']\n",
    "        c[0, 5] = c[5, 0] = 0\n",
    "        c[1, 1] = r['dec_error']*r['dec_error']\n",
    "        c[1, 2] = c[2, 1] = r['dec_error']*r['parallax_error']*r['dec_parallax_corr']\n",
    "        c[1, 3] = c[3, 1] = r['dec_error']*r['pmra_error']*r['dec_pmra_corr']\n",
    "        c[1, 4] = c[4, 1] = r['dec_error']*r['pmdec_error']*r['dec_pmdec_corr']\n",
    "        c[1, 5] = c[5, 1] = 0\n",
    "        c[2, 2] = r['parallax_error']*r['parallax_error']\n",
    "        c[2, 3] = c[3, 2] = r['parallax_error']*r['pmra_error']*r['parallax_pmra_corr']\n",
    "        c[2, 4] = c[4, 2] = r['parallax_error']*r['pmdec_error']*r['parallax_pmdec_corr']\n",
    "        c[2, 5] = c[5, 2] = 0\n",
    "        c[3, 3] = r['pmra_error']*r['pmra_error']\n",
    "        c[3, 4] = c[4, 3] = r['pmra_error']*r['pmdec_error']*r['pmra_pmdec_corr']\n",
    "        c[3, 5] = c[5, 3] = 0\n",
    "        c[4, 4] = r['pmdec_error']*r['pmdec_error']\n",
    "        c[4, 5] = c[5, 4] = 0\n",
    "        c[5, 5] = r['dr2_radial_velocity_error']*r['dr2_radial_velocity_error']\n",
    "        return c\n",
    "#    def icrs_sampling(self):"
   ]
  },
  {
   "cell_type": "code",
   "execution_count": 25,
   "metadata": {},
   "outputs": [],
   "source": [
    "#def query_gaia_object(source_id):\n",
    "#    \"\"\"\n",
    "#    \n",
    "#    \"\"\"\n",
    "#    query = \"\"\"SELECT * FROM gaiaedr3.gaia_source \n",
    "#    WHERE source_id = {Gaia_ID}\"\"\"\n",
    "#    query = query.format(Gaia_ID=source_id)\n",
    "#    job = Gaia.launch_job(query)\n",
    "#    return job.get_results()"
   ]
  },
  {
   "cell_type": "code",
   "execution_count": 172,
   "metadata": {},
   "outputs": [
    {
     "output_type": "stream",
     "name": "stdout",
     "text": [
      "INFO: Query finished. [astroquery.utils.tap.core]\n"
     ]
    },
    {
     "output_type": "execute_result",
     "data": {
      "text/plain": [
       "array([[ 9.54406787e-05,  8.07745346e-06,  1.46465482e-05,\n",
       "        -1.83462234e-05, -1.47798009e-05,  0.00000000e+00],\n",
       "       [ 8.07745346e-06,  9.08365109e-05,  2.41361377e-05,\n",
       "        -1.35102800e-06, -1.68362167e-05,  0.00000000e+00],\n",
       "       [ 1.46465482e-05,  2.41361377e-05,  1.10947549e-04,\n",
       "         3.21730076e-05, -2.69259599e-05,  0.00000000e+00],\n",
       "       [-1.83462234e-05, -1.35102800e-06,  3.21730076e-05,\n",
       "         1.77398950e-04,  3.24402681e-05,  0.00000000e+00],\n",
       "       [-1.47798009e-05, -1.68362167e-05, -2.69259599e-05,\n",
       "         3.24402681e-05,  1.77991737e-04,  0.00000000e+00],\n",
       "       [ 0.00000000e+00,  0.00000000e+00,  0.00000000e+00,\n",
       "         0.00000000e+00,  0.00000000e+00,  3.22557235e+00]])"
      ]
     },
     "metadata": {},
     "execution_count": 172
    }
   ],
   "source": [
    "obj = ICRS2GCC(4667368899326729856)\n",
    "r = obj.matrix_cov()\n",
    "r"
   ]
  },
  {
   "cell_type": "code",
   "execution_count": 123,
   "metadata": {},
   "outputs": [
    {
     "output_type": "stream",
     "name": "stdout",
     "text": [
      "INFO: Query finished. [astroquery.utils.tap.core]\n"
     ]
    },
    {
     "output_type": "execute_result",
     "data": {
      "text/plain": [
       "<Table length=1>\n",
       "    solution_id              designation          ...      ecl_lat     \n",
       "                                                  ...        deg       \n",
       "       int64                    object            ...      float64     \n",
       "------------------- ----------------------------- ... -----------------\n",
       "1636042515805110273 Gaia EDR3 4667335913977929728 ... -76.4773089156761"
      ],
      "text/html": "<i>Table length=1</i>\n<table id=\"table140628614091824\" class=\"table-striped table-bordered table-condensed\">\n<thead><tr><th>solution_id</th><th>designation</th><th>source_id</th><th>random_index</th><th>ref_epoch</th><th>ra</th><th>ra_error</th><th>dec</th><th>dec_error</th><th>parallax</th><th>parallax_error</th><th>parallax_over_error</th><th>pm</th><th>pmra</th><th>pmra_error</th><th>pmdec</th><th>pmdec_error</th><th>ra_dec_corr</th><th>ra_parallax_corr</th><th>ra_pmra_corr</th><th>ra_pmdec_corr</th><th>dec_parallax_corr</th><th>dec_pmra_corr</th><th>dec_pmdec_corr</th><th>parallax_pmra_corr</th><th>parallax_pmdec_corr</th><th>pmra_pmdec_corr</th><th>astrometric_n_obs_al</th><th>astrometric_n_obs_ac</th><th>astrometric_n_good_obs_al</th><th>astrometric_n_bad_obs_al</th><th>astrometric_gof_al</th><th>astrometric_chi2_al</th><th>astrometric_excess_noise</th><th>astrometric_excess_noise_sig</th><th>astrometric_params_solved</th><th>astrometric_primary_flag</th><th>nu_eff_used_in_astrometry</th><th>pseudocolour</th><th>pseudocolour_error</th><th>ra_pseudocolour_corr</th><th>dec_pseudocolour_corr</th><th>parallax_pseudocolour_corr</th><th>pmra_pseudocolour_corr</th><th>pmdec_pseudocolour_corr</th><th>astrometric_matched_transits</th><th>visibility_periods_used</th><th>astrometric_sigma5d_max</th><th>matched_transits</th><th>new_matched_transits</th><th>matched_transits_removed</th><th>ipd_gof_harmonic_amplitude</th><th>ipd_gof_harmonic_phase</th><th>ipd_frac_multi_peak</th><th>ipd_frac_odd_win</th><th>ruwe</th><th>scan_direction_strength_k1</th><th>scan_direction_strength_k2</th><th>scan_direction_strength_k3</th><th>scan_direction_strength_k4</th><th>scan_direction_mean_k1</th><th>scan_direction_mean_k2</th><th>scan_direction_mean_k3</th><th>scan_direction_mean_k4</th><th>duplicated_source</th><th>phot_g_n_obs</th><th>phot_g_mean_flux</th><th>phot_g_mean_flux_error</th><th>phot_g_mean_flux_over_error</th><th>phot_g_mean_mag</th><th>phot_bp_n_obs</th><th>phot_bp_mean_flux</th><th>phot_bp_mean_flux_error</th><th>phot_bp_mean_flux_over_error</th><th>phot_bp_mean_mag</th><th>phot_rp_n_obs</th><th>phot_rp_mean_flux</th><th>phot_rp_mean_flux_error</th><th>phot_rp_mean_flux_over_error</th><th>phot_rp_mean_mag</th><th>phot_bp_n_contaminated_transits</th><th>phot_bp_n_blended_transits</th><th>phot_rp_n_contaminated_transits</th><th>phot_rp_n_blended_transits</th><th>phot_proc_mode</th><th>phot_bp_rp_excess_factor</th><th>bp_rp</th><th>bp_g</th><th>g_rp</th><th>dr2_radial_velocity</th><th>dr2_radial_velocity_error</th><th>dr2_rv_nb_transits</th><th>dr2_rv_template_teff</th><th>dr2_rv_template_logg</th><th>dr2_rv_template_fe_h</th><th>l</th><th>b</th><th>ecl_lon</th><th>ecl_lat</th></tr></thead>\n<thead><tr><th></th><th></th><th></th><th></th><th>yr</th><th>deg</th><th>mas</th><th>deg</th><th>mas</th><th>mas</th><th>mas</th><th></th><th>mas / yr</th><th>mas / yr</th><th>mas / yr</th><th>mas / yr</th><th>mas / yr</th><th></th><th></th><th></th><th></th><th></th><th></th><th></th><th></th><th></th><th></th><th></th><th></th><th></th><th></th><th></th><th></th><th>mas</th><th></th><th></th><th></th><th>1 / um</th><th>1 / um</th><th>1 / um</th><th></th><th></th><th></th><th></th><th></th><th></th><th></th><th>mas</th><th></th><th></th><th></th><th></th><th>deg</th><th></th><th></th><th></th><th></th><th></th><th></th><th></th><th>deg</th><th>deg</th><th>deg</th><th>deg</th><th></th><th></th><th>electron / s</th><th>electron / s</th><th></th><th>mag</th><th></th><th>electron / s</th><th>electron / s</th><th></th><th>mag</th><th></th><th>electron / s</th><th>electron / s</th><th></th><th>mag</th><th></th><th></th><th></th><th></th><th></th><th></th><th>mag</th><th>mag</th><th>mag</th><th>km / s</th><th>km / s</th><th></th><th>K</th><th>log(cm.s**-2)</th><th>dex</th><th>deg</th><th>deg</th><th>deg</th><th>deg</th></tr></thead>\n<thead><tr><th>int64</th><th>object</th><th>int64</th><th>int64</th><th>float64</th><th>float64</th><th>float32</th><th>float64</th><th>float32</th><th>float64</th><th>float32</th><th>float32</th><th>float32</th><th>float64</th><th>float32</th><th>float64</th><th>float32</th><th>float32</th><th>float32</th><th>float32</th><th>float32</th><th>float32</th><th>float32</th><th>float32</th><th>float32</th><th>float32</th><th>float32</th><th>int16</th><th>int16</th><th>int16</th><th>int16</th><th>float32</th><th>float32</th><th>float32</th><th>float32</th><th>int16</th><th>bool</th><th>float32</th><th>float32</th><th>float32</th><th>float32</th><th>float32</th><th>float32</th><th>float32</th><th>float32</th><th>int16</th><th>int16</th><th>float32</th><th>int16</th><th>int16</th><th>int16</th><th>float32</th><th>float32</th><th>int16</th><th>int16</th><th>float32</th><th>float32</th><th>float32</th><th>float32</th><th>float32</th><th>float32</th><th>float32</th><th>float32</th><th>float32</th><th>bool</th><th>int16</th><th>float64</th><th>float32</th><th>float32</th><th>float32</th><th>int16</th><th>float64</th><th>float32</th><th>float32</th><th>float32</th><th>int16</th><th>float64</th><th>float32</th><th>float32</th><th>float32</th><th>int16</th><th>int16</th><th>int16</th><th>int16</th><th>int16</th><th>float32</th><th>float32</th><th>float32</th><th>float32</th><th>float32</th><th>float32</th><th>int16</th><th>float32</th><th>float32</th><th>float32</th><th>float64</th><th>float64</th><th>float64</th><th>float64</th></tr></thead>\n<tr><td>1636042515805110273</td><td>Gaia EDR3 4667335913977929728</td><td>4667335913977929728</td><td>1591815672</td><td>2016.0</td><td>54.39207400346642</td><td>0.019150086</td><td>-68.68499964893623</td><td>0.019367898</td><td>1.21830593036908</td><td>0.01906784</td><td>63.89323</td><td>18.107489</td><td>4.35147610520748</td><td>0.02400905</td><td>17.57685369873509</td><td>0.022759268</td><td>0.10612504</td><td>0.08568943</td><td>-0.34366313</td><td>-0.27086183</td><td>0.0754462</td><td>-0.25639552</td><td>-0.25372684</td><td>0.1018322</td><td>-0.23831023</td><td>0.1551066</td><td>303</td><td>0</td><td>301</td><td>2</td><td>21.050278</td><td>1175.0875</td><td>0.17704599</td><td>26.554602</td><td>31</td><td>False</td><td>1.5311195</td><td>--</td><td>--</td><td>--</td><td>--</td><td>--</td><td>--</td><td>--</td><td>35</td><td>27</td><td>0.0367375</td><td>38</td><td>17</td><td>0</td><td>0.025795206</td><td>73.736145</td><td>0</td><td>0</td><td>1.978536</td><td>0.16971408</td><td>0.048153892</td><td>0.045082685</td><td>0.05960808</td><td>-6.0223927</td><td>67.054436</td><td>27.120165</td><td>6.023081</td><td>False</td><td>308</td><td>87674.67439104567</td><td>18.848673</td><td>4651.504</td><td>13.330181</td><td>35</td><td>45049.9264558907</td><td>40.827145</td><td>1103.4308</td><td>13.704307</td><td>32</td><td>61053.05726004629</td><td>33.608616</td><td>1816.5895</td><td>12.783627</td><td>0</td><td>0</td><td>0</td><td>0</td><td>0</td><td>1.2101897</td><td>0.92068005</td><td>0.37412548</td><td>0.54655457</td><td>--</td><td>--</td><td>0</td><td>--</td><td>--</td><td>--</td><td>284.05906554142723</td><td>-41.833071175379196</td><td>334.8366085447379</td><td>-76.4773089156761</td></tr>\n</table>"
     },
     "metadata": {},
     "execution_count": 123
    }
   ],
   "source": [
    "#obj.source_id = 4667335913977929728\n",
    "#r = obj.query_gaia_object()\n",
    "#r"
   ]
  },
  {
   "cell_type": "code",
   "execution_count": 151,
   "metadata": {},
   "outputs": [
    {
     "output_type": "execute_result",
     "data": {
      "text/plain": [
       "['solution_id',\n",
       " 'designation',\n",
       " 'source_id',\n",
       " 'random_index',\n",
       " 'ref_epoch',\n",
       " 'ra',\n",
       " 'ra_error',\n",
       " 'dec',\n",
       " 'dec_error',\n",
       " 'parallax',\n",
       " 'parallax_error',\n",
       " 'parallax_over_error',\n",
       " 'pm',\n",
       " 'pmra',\n",
       " 'pmra_error',\n",
       " 'pmdec',\n",
       " 'pmdec_error',\n",
       " 'ra_dec_corr',\n",
       " 'ra_parallax_corr',\n",
       " 'ra_pmra_corr',\n",
       " 'ra_pmdec_corr',\n",
       " 'dec_parallax_corr',\n",
       " 'dec_pmra_corr',\n",
       " 'dec_pmdec_corr',\n",
       " 'parallax_pmra_corr',\n",
       " 'parallax_pmdec_corr',\n",
       " 'pmra_pmdec_corr',\n",
       " 'astrometric_n_obs_al',\n",
       " 'astrometric_n_obs_ac',\n",
       " 'astrometric_n_good_obs_al',\n",
       " 'astrometric_n_bad_obs_al',\n",
       " 'astrometric_gof_al',\n",
       " 'astrometric_chi2_al',\n",
       " 'astrometric_excess_noise',\n",
       " 'astrometric_excess_noise_sig',\n",
       " 'astrometric_params_solved',\n",
       " 'astrometric_primary_flag',\n",
       " 'nu_eff_used_in_astrometry',\n",
       " 'pseudocolour',\n",
       " 'pseudocolour_error',\n",
       " 'ra_pseudocolour_corr',\n",
       " 'dec_pseudocolour_corr',\n",
       " 'parallax_pseudocolour_corr',\n",
       " 'pmra_pseudocolour_corr',\n",
       " 'pmdec_pseudocolour_corr',\n",
       " 'astrometric_matched_transits',\n",
       " 'visibility_periods_used',\n",
       " 'astrometric_sigma5d_max',\n",
       " 'matched_transits',\n",
       " 'new_matched_transits',\n",
       " 'matched_transits_removed',\n",
       " 'ipd_gof_harmonic_amplitude',\n",
       " 'ipd_gof_harmonic_phase',\n",
       " 'ipd_frac_multi_peak',\n",
       " 'ipd_frac_odd_win',\n",
       " 'ruwe',\n",
       " 'scan_direction_strength_k1',\n",
       " 'scan_direction_strength_k2',\n",
       " 'scan_direction_strength_k3',\n",
       " 'scan_direction_strength_k4',\n",
       " 'scan_direction_mean_k1',\n",
       " 'scan_direction_mean_k2',\n",
       " 'scan_direction_mean_k3',\n",
       " 'scan_direction_mean_k4',\n",
       " 'duplicated_source',\n",
       " 'phot_g_n_obs',\n",
       " 'phot_g_mean_flux',\n",
       " 'phot_g_mean_flux_error',\n",
       " 'phot_g_mean_flux_over_error',\n",
       " 'phot_g_mean_mag',\n",
       " 'phot_bp_n_obs',\n",
       " 'phot_bp_mean_flux',\n",
       " 'phot_bp_mean_flux_error',\n",
       " 'phot_bp_mean_flux_over_error',\n",
       " 'phot_bp_mean_mag',\n",
       " 'phot_rp_n_obs',\n",
       " 'phot_rp_mean_flux',\n",
       " 'phot_rp_mean_flux_error',\n",
       " 'phot_rp_mean_flux_over_error',\n",
       " 'phot_rp_mean_mag',\n",
       " 'phot_bp_n_contaminated_transits',\n",
       " 'phot_bp_n_blended_transits',\n",
       " 'phot_rp_n_contaminated_transits',\n",
       " 'phot_rp_n_blended_transits',\n",
       " 'phot_proc_mode',\n",
       " 'phot_bp_rp_excess_factor',\n",
       " 'bp_rp',\n",
       " 'bp_g',\n",
       " 'g_rp',\n",
       " 'dr2_radial_velocity',\n",
       " 'dr2_radial_velocity_error',\n",
       " 'dr2_rv_nb_transits',\n",
       " 'dr2_rv_template_teff',\n",
       " 'dr2_rv_template_logg',\n",
       " 'dr2_rv_template_fe_h',\n",
       " 'l',\n",
       " 'b',\n",
       " 'ecl_lon',\n",
       " 'ecl_lat']"
      ]
     },
     "metadata": {},
     "execution_count": 151
    }
   ],
   "source": [
    "r.colnames"
   ]
  }
 ]
}