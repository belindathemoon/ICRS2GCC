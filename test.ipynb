{
 "metadata": {
  "language_info": {
   "codemirror_mode": {
    "name": "ipython",
    "version": 3
   },
   "file_extension": ".py",
   "mimetype": "text/x-python",
   "name": "python",
   "nbconvert_exporter": "python",
   "pygments_lexer": "ipython3",
   "version": "3.8.3"
  },
  "orig_nbformat": 4,
  "kernelspec": {
   "name": "python3",
   "display_name": "Python 3.8.3 64-bit ('base': conda)"
  },
  "interpreter": {
   "hash": "0b48c53a85b3ee023b7a5936f538661e5f5511ac714b37271d96842134e63b3b"
  }
 },
 "nbformat": 4,
 "nbformat_minor": 2,
 "cells": [
  {
   "cell_type": "code",
   "execution_count": 5,
   "metadata": {},
   "outputs": [
    {
     "output_type": "stream",
     "name": "stdout",
     "text": [
      "Created TAP+ (v1.2.1) - Connection:\n\tHost: gea.esac.esa.int\n\tUse HTTPS: True\n\tPort: 443\n\tSSL Port: 443\nCreated TAP+ (v1.2.1) - Connection:\n\tHost: geadata.esac.esa.int\n\tUse HTTPS: True\n\tPort: 443\n\tSSL Port: 443\n"
     ]
    }
   ],
   "source": [
    "import astropy.units as u\n",
    "from astropy.coordinates import SkyCoord\n",
    "from astroquery.gaia import Gaia"
   ]
  },
  {
   "cell_type": "code",
   "execution_count": 2,
   "metadata": {},
   "outputs": [],
   "source": [
    "Gaia.MAIN_GAIA_TABLE = \"gaiaedr3.gaia_source\" # Select early Data Release 3"
   ]
  },
  {
   "cell_type": "code",
   "execution_count": 4,
   "metadata": {},
   "outputs": [],
   "source": [
    "class ICRS2GC(object):\n",
    "    def __init__(self, Gaia_ID):\n",
    "        super().__init__()\n",
    "    def query_gaia_object(self):\n",
    "        query = \"\"\"SELECT * FROM gaiaedr3.gaia_source \n",
    "        WHERE source_id = {Gaia_ID}\"\"\"\n",
    "        query = query.format(Gaia_ID=self.Gaia_ID)\n",
    "        job = Gaia.launch_job_async(query)"
   ]
  },
  {
   "cell_type": "code",
   "execution_count": 9,
   "metadata": {},
   "outputs": [],
   "source": [
    "def query_gaia_object(object_id):\n",
    "    \"\"\"\n",
    "    \"\"\"\n",
    "    query = \"\"\"SELECT * FROM gaiaedr3.gaia_source \n",
    "    WHERE source_id = {Gaia_ID}\"\"\"\n",
    "    query = query.format(Gaia_ID=object_id)\n",
    "    job = Gaia.launch_job(query)"
   ]
  },
  {
   "cell_type": "code",
   "execution_count": 10,
   "metadata": {},
   "outputs": [],
   "source": [
    "# Gaia EDR3 4667368899326729856\n",
    "query_gaia_object(4667368899326729856)"
   ]
  }
 ]
}